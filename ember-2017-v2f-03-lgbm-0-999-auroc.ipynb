{
 "cells": [
  {
   "cell_type": "code",
   "execution_count": 1,
   "id": "6e06b3b3",
   "metadata": {
    "_cell_guid": "b1076dfc-b9ad-4769-8c92-a6c4dae69d19",
    "_uuid": "8f2839f25d086af736a60e9eeb907d3b93b6e0e5",
    "execution": {
     "iopub.execute_input": "2025-02-28T12:38:05.183902Z",
     "iopub.status.busy": "2025-02-28T12:38:05.183482Z",
     "iopub.status.idle": "2025-02-28T12:38:06.571736Z",
     "shell.execute_reply": "2025-02-28T12:38:06.570455Z"
    },
    "papermill": {
     "duration": 1.395845,
     "end_time": "2025-02-28T12:38:06.573785",
     "exception": false,
     "start_time": "2025-02-28T12:38:05.177940",
     "status": "completed"
    },
    "tags": []
   },
   "outputs": [
    {
     "name": "stdout",
     "output_type": "stream",
     "text": [
      "/kaggle/input/ember-2017-v2-features/train_ember_2017_v2_features.parquet\n",
      "/kaggle/input/ember-2017-v2-features/test_ember_2017_v2_features.parquet\n"
     ]
    }
   ],
   "source": [
    "# This Python 3 environment comes with many helpful analytics libraries installed\n",
    "# It is defined by the kaggle/python Docker image: https://github.com/kaggle/docker-python\n",
    "# For example, here's several helpful packages to load\n",
    "\n",
    "import numpy as np # linear algebra\n",
    "import pandas as pd # data processing, CSV file I/O (e.g. pd.read_csv)\n",
    "\n",
    "# Input data files are available in the read-only \"../input/\" directory\n",
    "# For example, running this (by clicking run or pressing Shift+Enter) will list all files under the input directory\n",
    "\n",
    "import os\n",
    "for dirname, _, filenames in os.walk('/kaggle/input'):\n",
    "    for filename in filenames:\n",
    "        print(os.path.join(dirname, filename))\n",
    "\n",
    "# You can write up to 20GB to the current directory (/kaggle/working/) that gets preserved as output when you create a version using \"Save & Run All\" \n",
    "# You can also write temporary files to /kaggle/temp/, but they won't be saved outside of the current session"
   ]
  },
  {
   "cell_type": "code",
   "execution_count": 2,
   "id": "687f90c7",
   "metadata": {
    "execution": {
     "iopub.execute_input": "2025-02-28T12:38:06.582364Z",
     "iopub.status.busy": "2025-02-28T12:38:06.581861Z",
     "iopub.status.idle": "2025-02-28T12:38:10.136570Z",
     "shell.execute_reply": "2025-02-28T12:38:10.135409Z"
    },
    "papermill": {
     "duration": 3.561387,
     "end_time": "2025-02-28T12:38:10.138683",
     "exception": false,
     "start_time": "2025-02-28T12:38:06.577296",
     "status": "completed"
    },
    "tags": []
   },
   "outputs": [],
   "source": [
    "import lightgbm as lgb\n",
    "import pandas as pd\n",
    "from sklearn.model_selection import train_test_split\n",
    "from sklearn.metrics import roc_auc_score, auc, roc_curve, recall_score, precision_score, f1_score, accuracy_score, RocCurveDisplay"
   ]
  },
  {
   "cell_type": "code",
   "execution_count": 3,
   "id": "ceaa223e",
   "metadata": {
    "execution": {
     "iopub.execute_input": "2025-02-28T12:38:10.147536Z",
     "iopub.status.busy": "2025-02-28T12:38:10.146996Z",
     "iopub.status.idle": "2025-02-28T12:38:37.882358Z",
     "shell.execute_reply": "2025-02-28T12:38:37.880754Z"
    },
    "papermill": {
     "duration": 27.742453,
     "end_time": "2025-02-28T12:38:37.884441",
     "exception": false,
     "start_time": "2025-02-28T12:38:10.141988",
     "status": "completed"
    },
    "tags": []
   },
   "outputs": [],
   "source": [
    "df_train = pd.read_parquet('/kaggle/input/ember-2017-v2-features/train_ember_2017_v2_features.parquet')\n",
    "df_test = pd.read_parquet('/kaggle/input/ember-2017-v2-features/test_ember_2017_v2_features.parquet')"
   ]
  },
  {
   "cell_type": "code",
   "execution_count": 4,
   "id": "7ec57ba3",
   "metadata": {
    "execution": {
     "iopub.execute_input": "2025-02-28T12:38:37.891926Z",
     "iopub.status.busy": "2025-02-28T12:38:37.891632Z",
     "iopub.status.idle": "2025-02-28T12:38:37.924682Z",
     "shell.execute_reply": "2025-02-28T12:38:37.923467Z"
    },
    "papermill": {
     "duration": 0.038593,
     "end_time": "2025-02-28T12:38:37.926308",
     "exception": false,
     "start_time": "2025-02-28T12:38:37.887715",
     "status": "completed"
    },
    "tags": []
   },
   "outputs": [
    {
     "data": {
      "text/plain": [
       "Label\n",
       " 0.0    299992\n",
       "-1.0    299973\n",
       " 1.0    299793\n",
       "Name: count, dtype: int64"
      ]
     },
     "execution_count": 4,
     "metadata": {},
     "output_type": "execute_result"
    }
   ],
   "source": [
    "df_train.Label.value_counts()"
   ]
  },
  {
   "cell_type": "code",
   "execution_count": 5,
   "id": "ac314061",
   "metadata": {
    "execution": {
     "iopub.execute_input": "2025-02-28T12:38:37.934085Z",
     "iopub.status.busy": "2025-02-28T12:38:37.933753Z",
     "iopub.status.idle": "2025-02-28T12:38:39.837738Z",
     "shell.execute_reply": "2025-02-28T12:38:39.836603Z"
    },
    "papermill": {
     "duration": 1.910248,
     "end_time": "2025-02-28T12:38:39.839938",
     "exception": false,
     "start_time": "2025-02-28T12:38:37.929690",
     "status": "completed"
    },
    "tags": []
   },
   "outputs": [],
   "source": [
    "df_train = df_train[df_train['Label'].isin([0,1])]"
   ]
  },
  {
   "cell_type": "code",
   "execution_count": 6,
   "id": "62426cde",
   "metadata": {
    "execution": {
     "iopub.execute_input": "2025-02-28T12:38:39.848068Z",
     "iopub.status.busy": "2025-02-28T12:38:39.847725Z",
     "iopub.status.idle": "2025-02-28T12:38:39.862314Z",
     "shell.execute_reply": "2025-02-28T12:38:39.861244Z"
    },
    "papermill": {
     "duration": 0.021232,
     "end_time": "2025-02-28T12:38:39.864671",
     "exception": false,
     "start_time": "2025-02-28T12:38:39.843439",
     "status": "completed"
    },
    "tags": []
   },
   "outputs": [
    {
     "data": {
      "text/plain": [
       "Label\n",
       "0.0    299992\n",
       "1.0    299793\n",
       "Name: count, dtype: int64"
      ]
     },
     "execution_count": 6,
     "metadata": {},
     "output_type": "execute_result"
    }
   ],
   "source": [
    "df_train.Label.value_counts()"
   ]
  },
  {
   "cell_type": "code",
   "execution_count": 7,
   "id": "75836c74",
   "metadata": {
    "execution": {
     "iopub.execute_input": "2025-02-28T12:38:39.873258Z",
     "iopub.status.busy": "2025-02-28T12:38:39.872890Z",
     "iopub.status.idle": "2025-02-28T12:38:39.883131Z",
     "shell.execute_reply": "2025-02-28T12:38:39.882259Z"
    },
    "papermill": {
     "duration": 0.017071,
     "end_time": "2025-02-28T12:38:39.885312",
     "exception": false,
     "start_time": "2025-02-28T12:38:39.868241",
     "status": "completed"
    },
    "tags": []
   },
   "outputs": [
    {
     "data": {
      "text/plain": [
       "Label\n",
       "0.0    99996\n",
       "1.0    99984\n",
       "Name: count, dtype: int64"
      ]
     },
     "execution_count": 7,
     "metadata": {},
     "output_type": "execute_result"
    }
   ],
   "source": [
    "df_test.Label.value_counts()"
   ]
  },
  {
   "cell_type": "code",
   "execution_count": 8,
   "id": "9a6e6124",
   "metadata": {
    "execution": {
     "iopub.execute_input": "2025-02-28T12:38:39.893799Z",
     "iopub.status.busy": "2025-02-28T12:38:39.893422Z",
     "iopub.status.idle": "2025-02-28T12:38:39.898286Z",
     "shell.execute_reply": "2025-02-28T12:38:39.897474Z"
    },
    "papermill": {
     "duration": 0.011224,
     "end_time": "2025-02-28T12:38:39.900261",
     "exception": false,
     "start_time": "2025-02-28T12:38:39.889037",
     "status": "completed"
    },
    "tags": []
   },
   "outputs": [],
   "source": [
    "def xs_y(df_, targ): \n",
    "    if not isinstance(targ, list):\n",
    "        xs = df_[df_.columns.difference([targ])].copy()\n",
    "    else:\n",
    "        xs = df_[df_.columns.difference(targ)].copy()\n",
    "    y = df_[targ].copy()\n",
    "    return xs, y"
   ]
  },
  {
   "cell_type": "code",
   "execution_count": 9,
   "id": "293e3fa9",
   "metadata": {
    "execution": {
     "iopub.execute_input": "2025-02-28T12:38:39.909043Z",
     "iopub.status.busy": "2025-02-28T12:38:39.908655Z",
     "iopub.status.idle": "2025-02-28T12:38:39.913598Z",
     "shell.execute_reply": "2025-02-28T12:38:39.912398Z"
    },
    "papermill": {
     "duration": 0.011765,
     "end_time": "2025-02-28T12:38:39.915851",
     "exception": false,
     "start_time": "2025-02-28T12:38:39.904086",
     "status": "completed"
    },
    "tags": []
   },
   "outputs": [],
   "source": [
    "target = 'Label'"
   ]
  },
  {
   "cell_type": "code",
   "execution_count": 10,
   "id": "598c411f",
   "metadata": {
    "execution": {
     "iopub.execute_input": "2025-02-28T12:38:39.923973Z",
     "iopub.status.busy": "2025-02-28T12:38:39.923648Z",
     "iopub.status.idle": "2025-02-28T12:38:49.935195Z",
     "shell.execute_reply": "2025-02-28T12:38:49.933080Z"
    },
    "papermill": {
     "duration": 10.021185,
     "end_time": "2025-02-28T12:38:49.940564",
     "exception": false,
     "start_time": "2025-02-28T12:38:39.919379",
     "status": "completed"
    },
    "tags": []
   },
   "outputs": [],
   "source": [
    "X_train, y_train = xs_y(df_train, targ=target)\n",
    "X_test, y_test = xs_y(df_test, targ=target)"
   ]
  },
  {
   "cell_type": "code",
   "execution_count": 11,
   "id": "cd65ab06",
   "metadata": {
    "execution": {
     "iopub.execute_input": "2025-02-28T12:38:49.953177Z",
     "iopub.status.busy": "2025-02-28T12:38:49.952784Z",
     "iopub.status.idle": "2025-02-28T12:38:49.958581Z",
     "shell.execute_reply": "2025-02-28T12:38:49.957800Z"
    },
    "papermill": {
     "duration": 0.01367,
     "end_time": "2025-02-28T12:38:49.960971",
     "exception": false,
     "start_time": "2025-02-28T12:38:49.947301",
     "status": "completed"
    },
    "tags": []
   },
   "outputs": [],
   "source": [
    "# Create LightGBM dataset format (optional, but better for performance)\n",
    "train_data = lgb.Dataset(X_train, label=y_train)\n",
    "test_data = lgb.Dataset(X_test, label=y_test, reference=train_data)"
   ]
  },
  {
   "cell_type": "code",
   "execution_count": 12,
   "id": "512e3ee0",
   "metadata": {
    "execution": {
     "iopub.execute_input": "2025-02-28T12:38:49.969638Z",
     "iopub.status.busy": "2025-02-28T12:38:49.969300Z",
     "iopub.status.idle": "2025-02-28T12:38:50.133240Z",
     "shell.execute_reply": "2025-02-28T12:38:50.131460Z"
    },
    "papermill": {
     "duration": 0.170393,
     "end_time": "2025-02-28T12:38:50.135223",
     "exception": false,
     "start_time": "2025-02-28T12:38:49.964830",
     "status": "completed"
    },
    "tags": []
   },
   "outputs": [],
   "source": [
    "import gc\n",
    "del [[df_train, df_test]]\n",
    "gc.collect()\n",
    "df_train = pd.DataFrame()\n",
    "df_test = pd.DataFrame()"
   ]
  },
  {
   "cell_type": "code",
   "execution_count": 13,
   "id": "cd2a4c44",
   "metadata": {
    "execution": {
     "iopub.execute_input": "2025-02-28T12:38:50.143633Z",
     "iopub.status.busy": "2025-02-28T12:38:50.143236Z",
     "iopub.status.idle": "2025-02-28T12:38:50.148078Z",
     "shell.execute_reply": "2025-02-28T12:38:50.147059Z"
    },
    "papermill": {
     "duration": 0.011711,
     "end_time": "2025-02-28T12:38:50.150421",
     "exception": false,
     "start_time": "2025-02-28T12:38:50.138710",
     "status": "completed"
    },
    "tags": []
   },
   "outputs": [],
   "source": [
    "# Set LightGBM parameters for binary classification (with default settings)\n",
    "params = {\n",
    "    'objective': 'binary',  # Binary classification\n",
    "    'metric': 'binary_logloss',  # Evaluation metric for binary classification\n",
    "    'verbose': -1  # Suppress output for cleaner logs\n",
    "}"
   ]
  },
  {
   "cell_type": "code",
   "execution_count": 14,
   "id": "0c2fb51e",
   "metadata": {
    "execution": {
     "iopub.execute_input": "2025-02-28T12:38:50.159210Z",
     "iopub.status.busy": "2025-02-28T12:38:50.158818Z",
     "iopub.status.idle": "2025-02-28T12:41:34.913745Z",
     "shell.execute_reply": "2025-02-28T12:41:34.912559Z"
    },
    "papermill": {
     "duration": 164.7618,
     "end_time": "2025-02-28T12:41:34.916064",
     "exception": false,
     "start_time": "2025-02-28T12:38:50.154264",
     "status": "completed"
    },
    "tags": []
   },
   "outputs": [],
   "source": [
    "# Train the LightGBM model\n",
    "gbm = lgb.train(\n",
    "    params,                 # Hyperparameters\n",
    "    train_data,             # Training dataset\n",
    "    num_boost_round=100    # Number of boosting rounds (default is 100 trees)\n",
    ")"
   ]
  },
  {
   "cell_type": "code",
   "execution_count": 15,
   "id": "9957653d",
   "metadata": {
    "execution": {
     "iopub.execute_input": "2025-02-28T12:41:34.924399Z",
     "iopub.status.busy": "2025-02-28T12:41:34.924053Z",
     "iopub.status.idle": "2025-02-28T12:41:44.614859Z",
     "shell.execute_reply": "2025-02-28T12:41:44.613574Z"
    },
    "papermill": {
     "duration": 9.696854,
     "end_time": "2025-02-28T12:41:44.616610",
     "exception": false,
     "start_time": "2025-02-28T12:41:34.919756",
     "status": "completed"
    },
    "tags": []
   },
   "outputs": [
    {
     "data": {
      "text/plain": [
       "<sklearn.metrics._plot.roc_curve.RocCurveDisplay at 0x78dce82a1ae0>"
      ]
     },
     "execution_count": 15,
     "metadata": {},
     "output_type": "execute_result"
    },
    {
     "data": {
      "image/png": "[encoded data removed]",
      "text/plain": [
       "<Figure size 640x480 with 1 Axes>"
      ]
     },
     "metadata": {},
     "output_type": "display_data"
    }
   ],
   "source": [
    "fpr, tpr, thresholds = roc_curve(y_train, gbm.predict(X_train, num_iteration=gbm.best_iteration))\n",
    "# get the best threshold\n",
    "J = tpr - fpr\n",
    "ix = np.argmax(J)\n",
    "best_thresh = thresholds[ix]\n",
    "roc_auc = auc(fpr, tpr)\n",
    "display = RocCurveDisplay(fpr=fpr, tpr=tpr, roc_auc=roc_auc, estimator_name='LightGBM')\n",
    "display.plot()"
   ]
  },
  {
   "cell_type": "code",
   "execution_count": 16,
   "id": "038ca8c0",
   "metadata": {
    "execution": {
     "iopub.execute_input": "2025-02-28T12:41:44.624858Z",
     "iopub.status.busy": "2025-02-28T12:41:44.624598Z",
     "iopub.status.idle": "2025-02-28T12:41:44.915143Z",
     "shell.execute_reply": "2025-02-28T12:41:44.914406Z"
    },
    "papermill": {
     "duration": 0.296377,
     "end_time": "2025-02-28T12:41:44.916655",
     "exception": false,
     "start_time": "2025-02-28T12:41:44.620278",
     "status": "completed"
    },
    "tags": []
   },
   "outputs": [
    {
     "data": {
      "text/plain": [
       "<Axes: title={'center': 'Feature importance'}, xlabel='Feature importance', ylabel='Features'>"
      ]
     },
     "execution_count": 16,
     "metadata": {},
     "output_type": "execute_result"
    },
    {
     "data": {
      "image/png": "[encoded data removed]",
      "text/plain": [
       "<Figure size 640x480 with 1 Axes>"
      ]
     },
     "metadata": {},
     "output_type": "display_data"
    }
   ],
   "source": [
    "lgb.plot_importance(gbm, max_num_features=20)"
   ]
  },
  {
   "cell_type": "code",
   "execution_count": 17,
   "id": "a27cad3d",
   "metadata": {
    "execution": {
     "iopub.execute_input": "2025-02-28T12:41:44.926350Z",
     "iopub.status.busy": "2025-02-28T12:41:44.926097Z",
     "iopub.status.idle": "2025-02-28T12:41:44.934407Z",
     "shell.execute_reply": "2025-02-28T12:41:44.933732Z"
    },
    "papermill": {
     "duration": 0.015198,
     "end_time": "2025-02-28T12:41:44.936107",
     "exception": false,
     "start_time": "2025-02-28T12:41:44.920909",
     "status": "completed"
    },
    "tags": []
   },
   "outputs": [
    {
     "name": "stdout",
     "output_type": "stream",
     "text": [
      "F627, 91\n",
      "F2356, 49\n",
      "F692, 47\n",
      "F2360, 46\n",
      "F2355, 35\n",
      "F638, 33\n",
      "F1061, 32\n",
      "F656, 32\n",
      "F2365, 31\n",
      "F682, 31\n",
      "F516, 30\n",
      "F686, 29\n",
      "F555, 27\n",
      "F129, 26\n",
      "F616, 26\n",
      "F2361, 25\n",
      "F785, 24\n",
      "F614, 24\n",
      "F33, 22\n",
      "F952, 21\n"
     ]
    }
   ],
   "source": [
    "# Get feature names\n",
    "feature_names = gbm.feature_name()  \n",
    "\n",
    "# Get feature importance values\n",
    "feature_importance = gbm.feature_importance(importance_type='split')  # Use 'gain' for information gain\n",
    "\n",
    "# Combine and sort by importance\n",
    "sorted_idx = np.argsort(feature_importance)[::-1]  # Sort in descending order\n",
    "top_features = [(feature_names[i], feature_importance[i]) for i in sorted_idx[:20]]\n",
    "\n",
    "# Print the top 20 features\n",
    "for name, importance in top_features:\n",
    "    print(f\"{name}, {importance}\")"
   ]
  },
  {
   "cell_type": "code",
   "execution_count": 18,
   "id": "e860844f",
   "metadata": {
    "execution": {
     "iopub.execute_input": "2025-02-28T12:41:44.945997Z",
     "iopub.status.busy": "2025-02-28T12:41:44.945735Z",
     "iopub.status.idle": "2025-02-28T12:41:46.726010Z",
     "shell.execute_reply": "2025-02-28T12:41:46.725063Z"
    },
    "papermill": {
     "duration": 1.787475,
     "end_time": "2025-02-28T12:41:46.728051",
     "exception": false,
     "start_time": "2025-02-28T12:41:44.940576",
     "status": "completed"
    },
    "tags": []
   },
   "outputs": [
    {
     "name": "stdout",
     "output_type": "stream",
     "text": [
      "(199980,)\n",
      "0.5136253182555126\n"
     ]
    }
   ],
   "source": [
    "y_test_pred_proba = gbm.predict(X_test, num_iteration=gbm.best_iteration)  # Probabilities for test data\n",
    "y_test_pred = (y_test_pred_proba >= best_thresh).astype(int)  # Apply the best threshold to convert to binary\n",
    "print(y_test_pred.shape)\n",
    "print(best_thresh)"
   ]
  },
  {
   "cell_type": "code",
   "execution_count": 19,
   "id": "d20831db",
   "metadata": {
    "execution": {
     "iopub.execute_input": "2025-02-28T12:41:46.738676Z",
     "iopub.status.busy": "2025-02-28T12:41:46.738252Z",
     "iopub.status.idle": "2025-02-28T12:41:47.065386Z",
     "shell.execute_reply": "2025-02-28T12:41:47.064527Z"
    },
    "papermill": {
     "duration": 0.334571,
     "end_time": "2025-02-28T12:41:47.067138",
     "exception": false,
     "start_time": "2025-02-28T12:41:46.732567",
     "status": "completed"
    },
    "tags": []
   },
   "outputs": [
    {
     "name": "stdout",
     "output_type": "stream",
     "text": [
      "The final LightGBM results\n",
      "ROC-AUC: 0.999\n",
      "Precision: 0.9891\n",
      "Recall: 0.9839\n",
      "F1: 0.9865\n"
     ]
    }
   ],
   "source": [
    "print(\"The final LightGBM results\")\n",
    "print(\"ROC-AUC:\", round(roc_auc_score(y_true=y_test, y_score=y_test_pred_proba), 4))\n",
    "print(\"Precision:\", round(precision_score(y_true=y_test, y_pred=y_test_pred), 4))\n",
    "print(\"Recall:\", round(recall_score(y_true=y_test, y_pred=y_test_pred), 4))\n",
    "print(\"F1:\", round(f1_score(y_true=y_test, y_pred=y_test_pred), 4))"
   ]
  }
 ],
 "metadata": {
  "kaggle": {
   "accelerator": "none",
   "dataSources": [
    {
     "datasetId": 4856818,
     "sourceId": 8206090,
     "sourceType": "datasetVersion"
    }
   ],
   "dockerImageVersionId": 30761,
   "isGpuEnabled": false,
   "isInternetEnabled": true,
   "language": "python",
   "sourceType": "notebook"
  },
  "kernelspec": {
   "display_name": "Python 3",
   "language": "python",
   "name": "python3"
  },
  "language_info": {
   "codemirror_mode": {
    "name": "ipython",
    "version": 3
   },
   "file_extension": ".py",
   "mimetype": "text/x-python",
   "name": "python",
   "nbconvert_exporter": "python",
   "pygments_lexer": "ipython3",
   "version": "3.10.14"
  },
  "papermill": {
   "default_parameters": {},
   "duration": 227.036712,
   "end_time": "2025-02-28T12:41:48.496697",
   "environment_variables": {},
   "exception": null,
   "input_path": "__notebook__.ipynb",
   "output_path": "__notebook__.ipynb",
   "parameters": {},
   "start_time": "2025-02-28T12:38:01.459985",
   "version": "2.6.0"
  }
 },
 "nbformat": 4,
 "nbformat_minor": 5
}
