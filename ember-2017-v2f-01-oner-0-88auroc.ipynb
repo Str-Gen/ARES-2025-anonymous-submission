{
 "cells": [
  {
   "cell_type": "code",
   "execution_count": 1,
   "id": "cd3eccc6",
   "metadata": {
    "_cell_guid": "b1076dfc-b9ad-4769-8c92-a6c4dae69d19",
    "_uuid": "8f2839f25d086af736a60e9eeb907d3b93b6e0e5",
    "execution": {
     "iopub.execute_input": "2024-09-12T14:10:49.517613Z",
     "iopub.status.busy": "2024-09-12T14:10:49.517146Z",
     "iopub.status.idle": "2024-09-12T14:10:50.607543Z",
     "shell.execute_reply": "2024-09-12T14:10:50.605679Z"
    },
    "papermill": {
     "duration": 1.105107,
     "end_time": "2024-09-12T14:10:50.611088",
     "exception": false,
     "start_time": "2024-09-12T14:10:49.505981",
     "status": "completed"
    },
    "tags": []
   },
   "outputs": [
    {
     "name": "stdout",
     "output_type": "stream",
     "text": [
      "/kaggle/input/ember-2017-v2-features/train_ember_2017_v2_features.parquet\n",
      "/kaggle/input/ember-2017-v2-features/test_ember_2017_v2_features.parquet\n"
     ]
    }
   ],
   "source": [
    "# This Python 3 environment comes with many helpful analytics libraries installed\n",
    "# It is defined by the kaggle/python Docker image: https://github.com/kaggle/docker-python\n",
    "# For example, here's several helpful packages to load\n",
    "\n",
    "import numpy as np # linear algebra\n",
    "import pandas as pd # data processing, CSV file I/O (e.g. pd.read_csv)\n",
    "\n",
    "# Input data files are available in the read-only \"../input/\" directory\n",
    "# For example, running this (by clicking run or pressing Shift+Enter) will list all files under the input directory\n",
    "\n",
    "import os\n",
    "for dirname, _, filenames in os.walk('/kaggle/input'):\n",
    "    for filename in filenames:\n",
    "        print(os.path.join(dirname, filename))\n",
    "\n",
    "# You can write up to 20GB to the current directory (/kaggle/working/) that gets preserved as output when you create a version using \"Save & Run All\" \n",
    "# You can also write temporary files to /kaggle/temp/, but they won't be saved outside of the current session"
   ]
  },
  {
   "cell_type": "code",
   "execution_count": 2,
   "id": "fc8506e4",
   "metadata": {
    "execution": {
     "iopub.execute_input": "2024-09-12T14:10:50.630893Z",
     "iopub.status.busy": "2024-09-12T14:10:50.630272Z",
     "iopub.status.idle": "2024-09-12T14:10:52.938323Z",
     "shell.execute_reply": "2024-09-12T14:10:52.937004Z"
    },
    "papermill": {
     "duration": 2.322335,
     "end_time": "2024-09-12T14:10:52.941566",
     "exception": false,
     "start_time": "2024-09-12T14:10:50.619231",
     "status": "completed"
    },
    "tags": []
   },
   "outputs": [],
   "source": [
    "from sklearn.tree import DecisionTreeClassifier\n",
    "from sklearn.metrics import roc_auc_score, roc_curve, precision_score, recall_score, f1_score, accuracy_score, auc, RocCurveDisplay\n",
    "from fastcore.basics import *\n",
    "from fastcore.parallel import *\n",
    "from os import cpu_count\n",
    "import seaborn as sns\n",
    "import matplotlib.pyplot as plt"
   ]
  },
  {
   "cell_type": "code",
   "execution_count": 3,
   "id": "cf81e738",
   "metadata": {
    "execution": {
     "iopub.execute_input": "2024-09-12T14:10:52.961057Z",
     "iopub.status.busy": "2024-09-12T14:10:52.960451Z",
     "iopub.status.idle": "2024-09-12T14:11:34.752445Z",
     "shell.execute_reply": "2024-09-12T14:11:34.751271Z"
    },
    "papermill": {
     "duration": 41.804916,
     "end_time": "2024-09-12T14:11:34.755246",
     "exception": false,
     "start_time": "2024-09-12T14:10:52.950330",
     "status": "completed"
    },
    "tags": []
   },
   "outputs": [],
   "source": [
    "df_train = pd.read_parquet('/kaggle/input/ember-2017-v2-features/train_ember_2017_v2_features.parquet')\n",
    "df_test = pd.read_parquet('/kaggle/input/ember-2017-v2-features/test_ember_2017_v2_features.parquet')"
   ]
  },
  {
   "cell_type": "code",
   "execution_count": 4,
   "id": "bf7d3660",
   "metadata": {
    "execution": {
     "iopub.execute_input": "2024-09-12T14:11:34.773744Z",
     "iopub.status.busy": "2024-09-12T14:11:34.773342Z",
     "iopub.status.idle": "2024-09-12T14:11:34.807322Z",
     "shell.execute_reply": "2024-09-12T14:11:34.806163Z"
    },
    "papermill": {
     "duration": 0.046221,
     "end_time": "2024-09-12T14:11:34.809812",
     "exception": false,
     "start_time": "2024-09-12T14:11:34.763591",
     "status": "completed"
    },
    "tags": []
   },
   "outputs": [
    {
     "data": {
      "text/plain": [
       "Label\n",
       " 0.0    299992\n",
       "-1.0    299973\n",
       " 1.0    299793\n",
       "Name: count, dtype: int64"
      ]
     },
     "execution_count": 4,
     "metadata": {},
     "output_type": "execute_result"
    }
   ],
   "source": [
    "df_train.Label.value_counts()"
   ]
  },
  {
   "cell_type": "code",
   "execution_count": 5,
   "id": "8a57d585",
   "metadata": {
    "execution": {
     "iopub.execute_input": "2024-09-12T14:11:34.828780Z",
     "iopub.status.busy": "2024-09-12T14:11:34.827640Z",
     "iopub.status.idle": "2024-09-12T14:11:38.662194Z",
     "shell.execute_reply": "2024-09-12T14:11:38.660730Z"
    },
    "papermill": {
     "duration": 3.847408,
     "end_time": "2024-09-12T14:11:38.665295",
     "exception": false,
     "start_time": "2024-09-12T14:11:34.817887",
     "status": "completed"
    },
    "tags": []
   },
   "outputs": [],
   "source": [
    "df_train = df_train[df_train['Label'].isin([0,1])]"
   ]
  },
  {
   "cell_type": "code",
   "execution_count": 6,
   "id": "7d9b8e5f",
   "metadata": {
    "execution": {
     "iopub.execute_input": "2024-09-12T14:11:38.685083Z",
     "iopub.status.busy": "2024-09-12T14:11:38.684618Z",
     "iopub.status.idle": "2024-09-12T14:11:38.705660Z",
     "shell.execute_reply": "2024-09-12T14:11:38.704358Z"
    },
    "papermill": {
     "duration": 0.034623,
     "end_time": "2024-09-12T14:11:38.708858",
     "exception": false,
     "start_time": "2024-09-12T14:11:38.674235",
     "status": "completed"
    },
    "tags": []
   },
   "outputs": [
    {
     "data": {
      "text/plain": [
       "Label\n",
       "0.0    299992\n",
       "1.0    299793\n",
       "Name: count, dtype: int64"
      ]
     },
     "execution_count": 6,
     "metadata": {},
     "output_type": "execute_result"
    }
   ],
   "source": [
    "df_train.Label.value_counts()"
   ]
  },
  {
   "cell_type": "code",
   "execution_count": 7,
   "id": "f640313b",
   "metadata": {
    "execution": {
     "iopub.execute_input": "2024-09-12T14:11:38.728730Z",
     "iopub.status.busy": "2024-09-12T14:11:38.728289Z",
     "iopub.status.idle": "2024-09-12T14:11:38.741951Z",
     "shell.execute_reply": "2024-09-12T14:11:38.740642Z"
    },
    "papermill": {
     "duration": 0.025809,
     "end_time": "2024-09-12T14:11:38.744538",
     "exception": false,
     "start_time": "2024-09-12T14:11:38.718729",
     "status": "completed"
    },
    "tags": []
   },
   "outputs": [
    {
     "data": {
      "text/plain": [
       "Label\n",
       "0.0    99996\n",
       "1.0    99984\n",
       "Name: count, dtype: int64"
      ]
     },
     "execution_count": 7,
     "metadata": {},
     "output_type": "execute_result"
    }
   ],
   "source": [
    "df_test.Label.value_counts()"
   ]
  },
  {
   "cell_type": "code",
   "execution_count": 8,
   "id": "09b2d7e4",
   "metadata": {
    "execution": {
     "iopub.execute_input": "2024-09-12T14:11:38.763631Z",
     "iopub.status.busy": "2024-09-12T14:11:38.763196Z",
     "iopub.status.idle": "2024-09-12T14:11:38.771576Z",
     "shell.execute_reply": "2024-09-12T14:11:38.770524Z"
    },
    "papermill": {
     "duration": 0.02113,
     "end_time": "2024-09-12T14:11:38.773983",
     "exception": false,
     "start_time": "2024-09-12T14:11:38.752853",
     "status": "completed"
    },
    "tags": []
   },
   "outputs": [
    {
     "data": {
      "text/plain": [
       "[]"
      ]
     },
     "execution_count": 8,
     "metadata": {},
     "output_type": "execute_result"
    }
   ],
   "source": [
    "cats = list(df_train.select_dtypes(include='category').columns.values)\n",
    "cats"
   ]
  },
  {
   "cell_type": "code",
   "execution_count": 9,
   "id": "f41e3ebf",
   "metadata": {
    "execution": {
     "iopub.execute_input": "2024-09-12T14:11:38.793970Z",
     "iopub.status.busy": "2024-09-12T14:11:38.793555Z",
     "iopub.status.idle": "2024-09-12T14:11:40.982708Z",
     "shell.execute_reply": "2024-09-12T14:11:40.981520Z"
    },
    "papermill": {
     "duration": 2.202788,
     "end_time": "2024-09-12T14:11:40.985389",
     "exception": false,
     "start_time": "2024-09-12T14:11:38.782601",
     "status": "completed"
    },
    "tags": []
   },
   "outputs": [
    {
     "data": {
      "text/plain": [
       "F1       0\n",
       "F1583    0\n",
       "F1585    0\n",
       "F1586    0\n",
       "F1587    0\n",
       "        ..\n",
       "F795     0\n",
       "F796     0\n",
       "F797     0\n",
       "F798     0\n",
       "Label    0\n",
       "Length: 2382, dtype: int64"
      ]
     },
     "execution_count": 9,
     "metadata": {},
     "output_type": "execute_result"
    }
   ],
   "source": [
    "df_train.isna().sum().sort_values(ascending=False)"
   ]
  },
  {
   "cell_type": "code",
   "execution_count": 10,
   "id": "73049e1d",
   "metadata": {
    "execution": {
     "iopub.execute_input": "2024-09-12T14:11:41.007665Z",
     "iopub.status.busy": "2024-09-12T14:11:41.007136Z",
     "iopub.status.idle": "2024-09-12T14:11:41.014400Z",
     "shell.execute_reply": "2024-09-12T14:11:41.013216Z"
    },
    "papermill": {
     "duration": 0.020769,
     "end_time": "2024-09-12T14:11:41.016872",
     "exception": false,
     "start_time": "2024-09-12T14:11:40.996103",
     "status": "completed"
    },
    "tags": []
   },
   "outputs": [],
   "source": [
    "def xs_y(df_, targ): \n",
    "    if not isinstance(targ, list):\n",
    "        xs = df_[df_.columns.difference([targ])].copy()\n",
    "    else:\n",
    "        xs = df_[df_.columns.difference(targ)].copy()\n",
    "    y = df_[targ].copy()\n",
    "    return xs, y"
   ]
  },
  {
   "cell_type": "code",
   "execution_count": 11,
   "id": "9a80cca3",
   "metadata": {
    "execution": {
     "iopub.execute_input": "2024-09-12T14:11:41.037205Z",
     "iopub.status.busy": "2024-09-12T14:11:41.036819Z",
     "iopub.status.idle": "2024-09-12T14:11:41.045936Z",
     "shell.execute_reply": "2024-09-12T14:11:41.044704Z"
    },
    "papermill": {
     "duration": 0.02244,
     "end_time": "2024-09-12T14:11:41.048804",
     "exception": false,
     "start_time": "2024-09-12T14:11:41.026364",
     "status": "completed"
    },
    "tags": []
   },
   "outputs": [],
   "source": [
    "def evaluate_one_feature(feature, index='', metric=roc_auc_score):    \n",
    "    rootnode = DecisionTreeClassifier(max_depth=1, criterion='gini', class_weight='balanced')    \n",
    "    rootnode.fit(X_train[feature].array.reshape(-1,1), y_train)    \n",
    "    preds = rootnode.predict(X_test[feature].array.reshape(-1,1))\n",
    "    preds_tr = rootnode.predict(X_train[feature].array.reshape(-1,1))\n",
    "    met = round(metric(y_test, preds), 4)\n",
    "    if met > 0.5:\n",
    "        return [feature, met, rootnode, preds, preds_tr]\n",
    "    else:\n",
    "        return [feature, met, None, [], []]"
   ]
  },
  {
   "cell_type": "code",
   "execution_count": 12,
   "id": "ceb4613d",
   "metadata": {
    "execution": {
     "iopub.execute_input": "2024-09-12T14:11:41.069298Z",
     "iopub.status.busy": "2024-09-12T14:11:41.068594Z",
     "iopub.status.idle": "2024-09-12T14:11:41.077792Z",
     "shell.execute_reply": "2024-09-12T14:11:41.076484Z"
    },
    "papermill": {
     "duration": 0.022523,
     "end_time": "2024-09-12T14:11:41.080460",
     "exception": false,
     "start_time": "2024-09-12T14:11:41.057937",
     "status": "completed"
    },
    "tags": []
   },
   "outputs": [],
   "source": [
    "target = 'Label'\n",
    "conts = list(df_train.columns.difference([target]).values) "
   ]
  },
  {
   "cell_type": "code",
   "execution_count": 13,
   "id": "9a625386",
   "metadata": {
    "execution": {
     "iopub.execute_input": "2024-09-12T14:11:41.099689Z",
     "iopub.status.busy": "2024-09-12T14:11:41.099250Z",
     "iopub.status.idle": "2024-09-12T14:11:46.881364Z",
     "shell.execute_reply": "2024-09-12T14:11:46.879315Z"
    },
    "papermill": {
     "duration": 5.79551,
     "end_time": "2024-09-12T14:11:46.884965",
     "exception": false,
     "start_time": "2024-09-12T14:11:41.089455",
     "status": "completed"
    },
    "tags": []
   },
   "outputs": [],
   "source": [
    "X_train, y_train = xs_y(df_train, targ=target)\n",
    "X_test, y_test = xs_y(df_test, targ=target)"
   ]
  },
  {
   "cell_type": "code",
   "execution_count": 14,
   "id": "e01bb23f",
   "metadata": {
    "execution": {
     "iopub.execute_input": "2024-09-12T14:11:46.905122Z",
     "iopub.status.busy": "2024-09-12T14:11:46.904676Z",
     "iopub.status.idle": "2024-09-12T14:11:47.017099Z",
     "shell.execute_reply": "2024-09-12T14:11:47.015518Z"
    },
    "papermill": {
     "duration": 0.125605,
     "end_time": "2024-09-12T14:11:47.020270",
     "exception": false,
     "start_time": "2024-09-12T14:11:46.894665",
     "status": "completed"
    },
    "tags": []
   },
   "outputs": [],
   "source": [
    "import gc\n",
    "del [[df_train, df_test]]\n",
    "gc.collect()\n",
    "df_train = pd.DataFrame()\n",
    "df_test = pd.DataFrame()"
   ]
  },
  {
   "cell_type": "code",
   "execution_count": 15,
   "id": "d20c2484",
   "metadata": {
    "execution": {
     "iopub.execute_input": "2024-09-12T14:11:47.041603Z",
     "iopub.status.busy": "2024-09-12T14:11:47.040452Z",
     "iopub.status.idle": "2024-09-12T14:17:51.795421Z",
     "shell.execute_reply": "2024-09-12T14:17:51.793789Z"
    },
    "papermill": {
     "duration": 364.769778,
     "end_time": "2024-09-12T14:17:51.799097",
     "exception": false,
     "start_time": "2024-09-12T14:11:47.029319",
     "status": "completed"
    },
    "tags": []
   },
   "outputs": [
    {
     "data": {
      "text/html": [
       "\n",
       "<style>\n",
       "    /* Turns off some styling */\n",
       "    progress {\n",
       "        /* gets rid of default border in Firefox and Opera. */\n",
       "        border: none;\n",
       "        /* Needs to be in here for Safari polyfill so background images work as expected. */\n",
       "        background-size: auto;\n",
       "    }\n",
       "    progress:not([value]), progress:not([value])::-webkit-progress-bar {\n",
       "        background: repeating-linear-gradient(45deg, #7e7e7e, #7e7e7e 10px, #5c5c5c 10px, #5c5c5c 20px);\n",
       "    }\n",
       "    .progress-bar-interrupted, .progress-bar-interrupted::-webkit-progress-bar {\n",
       "        background: #F44336;\n",
       "    }\n",
       "</style>\n"
      ],
      "text/plain": [
       "<IPython.core.display.HTML object>"
      ]
     },
     "metadata": {},
     "output_type": "display_data"
    },
    {
     "data": {
      "text/html": [],
      "text/plain": [
       "<IPython.core.display.HTML object>"
      ]
     },
     "metadata": {},
     "output_type": "display_data"
    }
   ],
   "source": [
    "results = parallel(f=evaluate_one_feature, items=conts, n_workers=cpu_count(), threadpool=False, progress=True)"
   ]
  },
  {
   "cell_type": "code",
   "execution_count": 16,
   "id": "197cfc89",
   "metadata": {
    "execution": {
     "iopub.execute_input": "2024-09-12T14:17:51.822266Z",
     "iopub.status.busy": "2024-09-12T14:17:51.821814Z",
     "iopub.status.idle": "2024-09-12T14:17:51.857037Z",
     "shell.execute_reply": "2024-09-12T14:17:51.855576Z"
    },
    "papermill": {
     "duration": 0.050059,
     "end_time": "2024-09-12T14:17:51.859941",
     "exception": false,
     "start_time": "2024-09-12T14:17:51.809882",
     "status": "completed"
    },
    "tags": []
   },
   "outputs": [
    {
     "name": "stdout",
     "output_type": "stream",
     "text": [
      "     feature  roc_auc_score\n",
      "2000    F656         0.8118\n",
      "1999    F655         0.8016\n",
      "190     F117         0.7964\n",
      "2003    F659         0.7926\n",
      "135     F112         0.7922\n",
      "1553    F253         0.7920\n",
      "1980    F638         0.7854\n",
      "124     F111         0.7816\n",
      "79      F107         0.7795\n",
      "1423    F228         0.7789\n",
      "2200 / 2381 features have direct separating power (linear)\n"
     ]
    }
   ],
   "source": [
    "result_df = pd.DataFrame(data=results, columns=['feature', 'roc_auc_score', 'fitted_models', 'predictions', 'preds_train']).sort_values(by='roc_auc_score', ascending=False)\n",
    "print(result_df[['feature', 'roc_auc_score']].head(10))\n",
    "useful_features = result_df.loc[result_df['roc_auc_score'] > 0.5]\n",
    "print(f\"{len(useful_features)} / {len(conts)} features have direct separating power (linear)\")"
   ]
  },
  {
   "cell_type": "code",
   "execution_count": 17,
   "id": "b42ba140",
   "metadata": {
    "execution": {
     "iopub.execute_input": "2024-09-12T14:17:51.880056Z",
     "iopub.status.busy": "2024-09-12T14:17:51.879636Z",
     "iopub.status.idle": "2024-09-12T14:17:51.885386Z",
     "shell.execute_reply": "2024-09-12T14:17:51.884088Z"
    },
    "papermill": {
     "duration": 0.019385,
     "end_time": "2024-09-12T14:17:51.888445",
     "exception": false,
     "start_time": "2024-09-12T14:17:51.869060",
     "status": "completed"
    },
    "tags": []
   },
   "outputs": [],
   "source": [
    "import warnings\n",
    "warnings.simplefilter(action='ignore', category=FutureWarning)"
   ]
  },
  {
   "cell_type": "code",
   "execution_count": 18,
   "id": "df7fd4f4",
   "metadata": {
    "execution": {
     "iopub.execute_input": "2024-09-12T14:17:51.909069Z",
     "iopub.status.busy": "2024-09-12T14:17:51.908654Z",
     "iopub.status.idle": "2024-09-12T14:18:34.162877Z",
     "shell.execute_reply": "2024-09-12T14:18:34.161487Z"
    },
    "papermill": {
     "duration": 42.281928,
     "end_time": "2024-09-12T14:18:34.179979",
     "exception": false,
     "start_time": "2024-09-12T14:17:51.898051",
     "status": "completed"
    },
    "tags": []
   },
   "outputs": [
    {
     "data": {
      "image/png": "[encoded data removed]",
      "text/plain": [
       "<Figure size 900x900 with 9 Axes>"
      ]
     },
     "metadata": {},
     "output_type": "display_data"
    }
   ],
   "source": [
    "fig, axes = plt.subplots(3,3, figsize=(9,9))\n",
    "axes = axes.flatten()\n",
    "for i, tf in enumerate(result_df['feature'].head(9)):\n",
    "    sns.histplot(data=pd.concat(objs=[X_train,y_train],axis=1), x=tf, stat='count', hue='Label', bins=100, log_scale=(False,True), ax=axes[i])\n",
    "    axes[i].tick_params(axis='x', rotation=0)\n",
    "    legend = axes[i].get_legend()\n",
    "    handles = legend.legend_handles\n",
    "    legend.remove()\n",
    "    axes[i].legend(handles, ['benign', 'malicious'], title='Traffic samples')\n",
    "#axes[2].ticklabel_format(style='sci', axis='x', scilimits=(0,0))\n",
    "plt.savefig(\"ember-2018-V2F-top9.png\", dpi=300, transparent=True, facecolor='white', edgecolor='white')"
   ]
  },
  {
   "cell_type": "code",
   "execution_count": 19,
   "id": "dde60d0a",
   "metadata": {
    "execution": {
     "iopub.execute_input": "2024-09-12T14:18:34.204041Z",
     "iopub.status.busy": "2024-09-12T14:18:34.203634Z",
     "iopub.status.idle": "2024-09-12T14:18:38.620018Z",
     "shell.execute_reply": "2024-09-12T14:18:38.618617Z"
    },
    "papermill": {
     "duration": 4.432496,
     "end_time": "2024-09-12T14:18:38.622855",
     "exception": false,
     "start_time": "2024-09-12T14:18:34.190359",
     "status": "completed"
    },
    "tags": []
   },
   "outputs": [
    {
     "name": "stdout",
     "output_type": "stream",
     "text": [
      "(199980,)\n",
      "(599785,)\n"
     ]
    }
   ],
   "source": [
    "ensemble_preds = np.mean(np.vstack(useful_features['predictions'].to_numpy()), axis=0)\n",
    "print(ensemble_preds.shape)\n",
    "ensemble_preds_train = np.mean(np.vstack(useful_features['preds_train'].to_numpy()), axis=0)\n",
    "print(ensemble_preds_train.shape)"
   ]
  },
  {
   "cell_type": "code",
   "execution_count": 20,
   "id": "3fc67767",
   "metadata": {
    "execution": {
     "iopub.execute_input": "2024-09-12T14:18:38.648768Z",
     "iopub.status.busy": "2024-09-12T14:18:38.648315Z",
     "iopub.status.idle": "2024-09-12T14:18:39.087806Z",
     "shell.execute_reply": "2024-09-12T14:18:39.086575Z"
    },
    "jupyter": {
     "source_hidden": true
    },
    "papermill": {
     "duration": 0.457132,
     "end_time": "2024-09-12T14:18:39.090858",
     "exception": false,
     "start_time": "2024-09-12T14:18:38.633726",
     "status": "completed"
    },
    "tags": []
   },
   "outputs": [
    {
     "data": {
      "text/plain": [
       "<sklearn.metrics._plot.roc_curve.RocCurveDisplay at 0x7e9289b6c280>"
      ]
     },
     "execution_count": 20,
     "metadata": {},
     "output_type": "execute_result"
    },
    {
     "data": {
      "image/png": "[encoded data removed]",
      "text/plain": [
       "<Figure size 640x480 with 1 Axes>"
      ]
     },
     "metadata": {},
     "output_type": "display_data"
    }
   ],
   "source": [
    "fpr, tpr, thresholds = roc_curve(y_train, ensemble_preds_train)\n",
    "# get the best threshold\n",
    "J = tpr - fpr\n",
    "ix = np.argmax(J)\n",
    "best_thresh = thresholds[ix]\n",
    "roc_auc = auc(fpr, tpr)\n",
    "display = RocCurveDisplay(fpr=fpr, tpr=tpr, roc_auc=roc_auc, estimator_name='OneR Ensemble')\n",
    "display.plot()"
   ]
  },
  {
   "cell_type": "code",
   "execution_count": 21,
   "id": "09b0c1cb",
   "metadata": {
    "execution": {
     "iopub.execute_input": "2024-09-12T14:18:39.116423Z",
     "iopub.status.busy": "2024-09-12T14:18:39.115985Z",
     "iopub.status.idle": "2024-09-12T14:18:39.570156Z",
     "shell.execute_reply": "2024-09-12T14:18:39.568701Z"
    },
    "papermill": {
     "duration": 0.47008,
     "end_time": "2024-09-12T14:18:39.573122",
     "exception": false,
     "start_time": "2024-09-12T14:18:39.103042",
     "status": "completed"
    },
    "tags": []
   },
   "outputs": [
    {
     "name": "stdout",
     "output_type": "stream",
     "text": [
      "Best threshold 0.7868\n",
      "The Ensemble OneR model (simple average)\n",
      "ROC-AUC 0.8791\n",
      "Precision 0.8435\n",
      "Recall 0.7075\n",
      "F1 0.7696\n"
     ]
    }
   ],
   "source": [
    "print(\"Best threshold\", round(best_thresh, 4))\n",
    "print(\"The Ensemble OneR model (simple average)\")\n",
    "print(\"ROC-AUC\", round(roc_auc_score(y_true=y_test, y_score=ensemble_preds),4))\n",
    "print(\"Precision\", round(precision_score(y_true=y_test, y_pred=np.where(ensemble_preds >= best_thresh, 1, 0)), 4))\n",
    "print(\"Recall\", round(recall_score(y_true=y_test, y_pred=np.where(ensemble_preds >= best_thresh, 1, 0)), 4))\n",
    "print(\"F1\", round(f1_score(y_true=y_test, y_pred=np.where(ensemble_preds >= best_thresh, 1, 0)), 4))"
   ]
  },
  {
   "cell_type": "code",
   "execution_count": null,
   "id": "15886087",
   "metadata": {
    "papermill": {
     "duration": 0.012361,
     "end_time": "2024-09-12T14:18:39.596979",
     "exception": false,
     "start_time": "2024-09-12T14:18:39.584618",
     "status": "completed"
    },
    "tags": []
   },
   "outputs": [],
   "source": []
  }
 ],
 "metadata": {
  "kaggle": {
   "accelerator": "none",
   "dataSources": [
    {
     "datasetId": 4856818,
     "sourceId": 8206090,
     "sourceType": "datasetVersion"
    }
   ],
   "dockerImageVersionId": 30698,
   "isGpuEnabled": false,
   "isInternetEnabled": true,
   "language": "python",
   "sourceType": "notebook"
  },
  "kernelspec": {
   "display_name": "Python 3",
   "language": "python",
   "name": "python3"
  },
  "language_info": {
   "codemirror_mode": {
    "name": "ipython",
    "version": 3
   },
   "file_extension": ".py",
   "mimetype": "text/x-python",
   "name": "python",
   "nbconvert_exporter": "python",
   "pygments_lexer": "ipython3",
   "version": "3.10.13"
  },
  "papermill": {
   "default_parameters": {},
   "duration": 475.885738,
   "end_time": "2024-09-12T14:18:41.539167",
   "environment_variables": {},
   "exception": null,
   "input_path": "__notebook__.ipynb",
   "output_path": "__notebook__.ipynb",
   "parameters": {},
   "start_time": "2024-09-12T14:10:45.653429",
   "version": "2.5.0"
  }
 },
 "nbformat": 4,
 "nbformat_minor": 5
}
