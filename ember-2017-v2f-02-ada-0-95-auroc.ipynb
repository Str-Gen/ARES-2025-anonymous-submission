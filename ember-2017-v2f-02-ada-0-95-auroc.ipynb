{
 "cells": [
  {
   "cell_type": "code",
   "execution_count": 1,
   "id": "e921ec2f",
   "metadata": {
    "_cell_guid": "b1076dfc-b9ad-4769-8c92-a6c4dae69d19",
    "_uuid": "8f2839f25d086af736a60e9eeb907d3b93b6e0e5",
    "execution": {
     "iopub.execute_input": "2024-09-16T23:09:13.790604Z",
     "iopub.status.busy": "2024-09-16T23:09:13.789464Z",
     "iopub.status.idle": "2024-09-16T23:09:14.252954Z",
     "shell.execute_reply": "2024-09-16T23:09:14.251725Z"
    },
    "papermill": {
     "duration": 0.476814,
     "end_time": "2024-09-16T23:09:14.255816",
     "exception": false,
     "start_time": "2024-09-16T23:09:13.779002",
     "status": "completed"
    },
    "tags": []
   },
   "outputs": [
    {
     "name": "stdout",
     "output_type": "stream",
     "text": [
      "/kaggle/input/ember-2017-v2-features/train_ember_2017_v2_features.parquet\n",
      "/kaggle/input/ember-2017-v2-features/test_ember_2017_v2_features.parquet\n"
     ]
    }
   ],
   "source": [
    "# This Python 3 environment comes with many helpful analytics libraries installed\n",
    "# It is defined by the kaggle/python Docker image: https://github.com/kaggle/docker-python\n",
    "# For example, here's several helpful packages to load\n",
    "\n",
    "import numpy as np # linear algebra\n",
    "import pandas as pd # data processing, CSV file I/O (e.g. pd.read_csv)\n",
    "\n",
    "# Input data files are available in the read-only \"../input/\" directory\n",
    "# For example, running this (by clicking run or pressing Shift+Enter) will list all files under the input directory\n",
    "\n",
    "import os\n",
    "for dirname, _, filenames in os.walk('/kaggle/input'):\n",
    "    for filename in filenames:\n",
    "        print(os.path.join(dirname, filename))\n",
    "\n",
    "# You can write up to 20GB to the current directory (/kaggle/working/) that gets preserved as output when you create a version using \"Save & Run All\" \n",
    "# You can also write temporary files to /kaggle/temp/, but they won't be saved outside of the current session"
   ]
  },
  {
   "cell_type": "code",
   "execution_count": 2,
   "id": "4a47513c",
   "metadata": {
    "execution": {
     "iopub.execute_input": "2024-09-16T23:09:14.270862Z",
     "iopub.status.busy": "2024-09-16T23:09:14.270200Z",
     "iopub.status.idle": "2024-09-16T23:09:16.618833Z",
     "shell.execute_reply": "2024-09-16T23:09:16.617837Z"
    },
    "papermill": {
     "duration": 2.359247,
     "end_time": "2024-09-16T23:09:16.621770",
     "exception": false,
     "start_time": "2024-09-16T23:09:14.262523",
     "status": "completed"
    },
    "tags": []
   },
   "outputs": [],
   "source": [
    "from sklearn.tree import DecisionTreeClassifier\n",
    "from sklearn.metrics import roc_auc_score, auc, roc_curve, recall_score, precision_score, f1_score, accuracy_score, RocCurveDisplay\n",
    "from sklearn.model_selection import train_test_split\n",
    "from sklearn.ensemble import AdaBoostClassifier"
   ]
  },
  {
   "cell_type": "code",
   "execution_count": 3,
   "id": "27bcfc5f",
   "metadata": {
    "execution": {
     "iopub.execute_input": "2024-09-16T23:09:16.636549Z",
     "iopub.status.busy": "2024-09-16T23:09:16.635230Z",
     "iopub.status.idle": "2024-09-16T23:09:59.338184Z",
     "shell.execute_reply": "2024-09-16T23:09:59.336311Z"
    },
    "papermill": {
     "duration": 42.71553,
     "end_time": "2024-09-16T23:09:59.343414",
     "exception": false,
     "start_time": "2024-09-16T23:09:16.627884",
     "status": "completed"
    },
    "tags": []
   },
   "outputs": [],
   "source": [
    "df_train = pd.read_parquet('/kaggle/input/ember-2017-v2-features/train_ember_2017_v2_features.parquet')\n",
    "df_test = pd.read_parquet('/kaggle/input/ember-2017-v2-features/test_ember_2017_v2_features.parquet')"
   ]
  },
  {
   "cell_type": "code",
   "execution_count": 4,
   "id": "cbe9bb0e",
   "metadata": {
    "execution": {
     "iopub.execute_input": "2024-09-16T23:09:59.387900Z",
     "iopub.status.busy": "2024-09-16T23:09:59.385776Z",
     "iopub.status.idle": "2024-09-16T23:09:59.462648Z",
     "shell.execute_reply": "2024-09-16T23:09:59.460560Z"
    },
    "papermill": {
     "duration": 0.113668,
     "end_time": "2024-09-16T23:09:59.467673",
     "exception": false,
     "start_time": "2024-09-16T23:09:59.354005",
     "status": "completed"
    },
    "tags": []
   },
   "outputs": [
    {
     "data": {
      "text/plain": [
       "Label\n",
       " 0.0    299992\n",
       "-1.0    299973\n",
       " 1.0    299793\n",
       "Name: count, dtype: int64"
      ]
     },
     "execution_count": 4,
     "metadata": {},
     "output_type": "execute_result"
    }
   ],
   "source": [
    "df_train.Label.value_counts()"
   ]
  },
  {
   "cell_type": "code",
   "execution_count": 5,
   "id": "fbc166e6",
   "metadata": {
    "execution": {
     "iopub.execute_input": "2024-09-16T23:09:59.491087Z",
     "iopub.status.busy": "2024-09-16T23:09:59.490078Z",
     "iopub.status.idle": "2024-09-16T23:10:05.786070Z",
     "shell.execute_reply": "2024-09-16T23:10:05.784666Z"
    },
    "papermill": {
     "duration": 6.312667,
     "end_time": "2024-09-16T23:10:05.790741",
     "exception": false,
     "start_time": "2024-09-16T23:09:59.478074",
     "status": "completed"
    },
    "tags": []
   },
   "outputs": [],
   "source": [
    "df_train = df_train[df_train['Label'].isin([0,1])]"
   ]
  },
  {
   "cell_type": "code",
   "execution_count": 6,
   "id": "57627797",
   "metadata": {
    "execution": {
     "iopub.execute_input": "2024-09-16T23:10:05.812538Z",
     "iopub.status.busy": "2024-09-16T23:10:05.811870Z",
     "iopub.status.idle": "2024-09-16T23:10:05.836926Z",
     "shell.execute_reply": "2024-09-16T23:10:05.835381Z"
    },
    "papermill": {
     "duration": 0.038368,
     "end_time": "2024-09-16T23:10:05.840599",
     "exception": false,
     "start_time": "2024-09-16T23:10:05.802231",
     "status": "completed"
    },
    "tags": []
   },
   "outputs": [
    {
     "data": {
      "text/plain": [
       "Label\n",
       "0.0    299992\n",
       "1.0    299793\n",
       "Name: count, dtype: int64"
      ]
     },
     "execution_count": 6,
     "metadata": {},
     "output_type": "execute_result"
    }
   ],
   "source": [
    "df_train.Label.value_counts()"
   ]
  },
  {
   "cell_type": "code",
   "execution_count": 7,
   "id": "50198f16",
   "metadata": {
    "execution": {
     "iopub.execute_input": "2024-09-16T23:10:05.863101Z",
     "iopub.status.busy": "2024-09-16T23:10:05.862452Z",
     "iopub.status.idle": "2024-09-16T23:10:05.880856Z",
     "shell.execute_reply": "2024-09-16T23:10:05.879687Z"
    },
    "papermill": {
     "duration": 0.03285,
     "end_time": "2024-09-16T23:10:05.884254",
     "exception": false,
     "start_time": "2024-09-16T23:10:05.851404",
     "status": "completed"
    },
    "tags": []
   },
   "outputs": [
    {
     "data": {
      "text/plain": [
       "Label\n",
       "0.0    99996\n",
       "1.0    99984\n",
       "Name: count, dtype: int64"
      ]
     },
     "execution_count": 7,
     "metadata": {},
     "output_type": "execute_result"
    }
   ],
   "source": [
    "df_test.Label.value_counts()"
   ]
  },
  {
   "cell_type": "code",
   "execution_count": 8,
   "id": "47f6a982",
   "metadata": {
    "execution": {
     "iopub.execute_input": "2024-09-16T23:10:05.906808Z",
     "iopub.status.busy": "2024-09-16T23:10:05.905886Z",
     "iopub.status.idle": "2024-09-16T23:10:05.915651Z",
     "shell.execute_reply": "2024-09-16T23:10:05.914525Z"
    },
    "papermill": {
     "duration": 0.022937,
     "end_time": "2024-09-16T23:10:05.918156",
     "exception": false,
     "start_time": "2024-09-16T23:10:05.895219",
     "status": "completed"
    },
    "tags": []
   },
   "outputs": [],
   "source": [
    "def xs_y(df_, targ): \n",
    "    if not isinstance(targ, list):\n",
    "        xs = df_[df_.columns.difference([targ])].copy()\n",
    "    else:\n",
    "        xs = df_[df_.columns.difference(targ)].copy()\n",
    "    y = df_[targ].copy()\n",
    "    return xs, y"
   ]
  },
  {
   "cell_type": "code",
   "execution_count": 9,
   "id": "02bcb100",
   "metadata": {
    "execution": {
     "iopub.execute_input": "2024-09-16T23:10:05.933463Z",
     "iopub.status.busy": "2024-09-16T23:10:05.933034Z",
     "iopub.status.idle": "2024-09-16T23:10:05.938568Z",
     "shell.execute_reply": "2024-09-16T23:10:05.937275Z"
    },
    "papermill": {
     "duration": 0.016289,
     "end_time": "2024-09-16T23:10:05.941247",
     "exception": false,
     "start_time": "2024-09-16T23:10:05.924958",
     "status": "completed"
    },
    "tags": []
   },
   "outputs": [],
   "source": [
    "target = 'Label'"
   ]
  },
  {
   "cell_type": "code",
   "execution_count": 10,
   "id": "956c8351",
   "metadata": {
    "execution": {
     "iopub.execute_input": "2024-09-16T23:10:05.957771Z",
     "iopub.status.busy": "2024-09-16T23:10:05.956547Z",
     "iopub.status.idle": "2024-09-16T23:10:14.136970Z",
     "shell.execute_reply": "2024-09-16T23:10:14.135660Z"
    },
    "papermill": {
     "duration": 8.192185,
     "end_time": "2024-09-16T23:10:14.140222",
     "exception": false,
     "start_time": "2024-09-16T23:10:05.948037",
     "status": "completed"
    },
    "tags": []
   },
   "outputs": [],
   "source": [
    "X_train, y_train = xs_y(df_train, targ=target)\n",
    "X_test, y_test = xs_y(df_test, targ=target)"
   ]
  },
  {
   "cell_type": "code",
   "execution_count": 11,
   "id": "8748b5b9",
   "metadata": {
    "execution": {
     "iopub.execute_input": "2024-09-16T23:10:14.155832Z",
     "iopub.status.busy": "2024-09-16T23:10:14.155205Z",
     "iopub.status.idle": "2024-09-16T23:10:14.288102Z",
     "shell.execute_reply": "2024-09-16T23:10:14.286914Z"
    },
    "papermill": {
     "duration": 0.143761,
     "end_time": "2024-09-16T23:10:14.290826",
     "exception": false,
     "start_time": "2024-09-16T23:10:14.147065",
     "status": "completed"
    },
    "tags": []
   },
   "outputs": [],
   "source": [
    "import gc\n",
    "del [[df_train, df_test]]\n",
    "gc.collect()\n",
    "df_train = pd.DataFrame()\n",
    "df_test = pd.DataFrame()"
   ]
  },
  {
   "cell_type": "code",
   "execution_count": 12,
   "id": "6e7f87f3",
   "metadata": {
    "execution": {
     "iopub.execute_input": "2024-09-16T23:10:14.305886Z",
     "iopub.status.busy": "2024-09-16T23:10:14.305437Z",
     "iopub.status.idle": "2024-09-16T23:10:14.311072Z",
     "shell.execute_reply": "2024-09-16T23:10:14.309970Z"
    },
    "papermill": {
     "duration": 0.01602,
     "end_time": "2024-09-16T23:10:14.313525",
     "exception": false,
     "start_time": "2024-09-16T23:10:14.297505",
     "status": "completed"
    },
    "tags": []
   },
   "outputs": [],
   "source": [
    "ada = AdaBoostClassifier(estimator=DecisionTreeClassifier(criterion='gini', max_depth=1, class_weight='balanced'), n_estimators=50, learning_rate=1.0)"
   ]
  },
  {
   "cell_type": "code",
   "execution_count": 13,
   "id": "7755838a",
   "metadata": {
    "execution": {
     "iopub.execute_input": "2024-09-16T23:10:14.329235Z",
     "iopub.status.busy": "2024-09-16T23:10:14.328483Z",
     "iopub.status.idle": "2024-09-17T00:14:06.572987Z",
     "shell.execute_reply": "2024-09-17T00:14:06.571382Z"
    },
    "papermill": {
     "duration": 3832.266023,
     "end_time": "2024-09-17T00:14:06.586110",
     "exception": false,
     "start_time": "2024-09-16T23:10:14.320087",
     "status": "completed"
    },
    "tags": []
   },
   "outputs": [
    {
     "data": {
      "text/html": [
       "<style>#sk-container-id-1 {color: black;background-color: white;}#sk-container-id-1 pre{padding: 0;}#sk-container-id-1 div.sk-toggleable {background-color: white;}#sk-container-id-1 label.sk-toggleable__label {cursor: pointer;display: block;width: 100%;margin-bottom: 0;padding: 0.3em;box-sizing: border-box;text-align: center;}#sk-container-id-1 label.sk-toggleable__label-arrow:before {content: \"▸\";float: left;margin-right: 0.25em;color: #696969;}#sk-container-id-1 label.sk-toggleable__label-arrow:hover:before {color: black;}#sk-container-id-1 div.sk-estimator:hover label.sk-toggleable__label-arrow:before {color: black;}#sk-container-id-1 div.sk-toggleable__content {max-height: 0;max-width: 0;overflow: hidden;text-align: left;background-color: #f0f8ff;}#sk-container-id-1 div.sk-toggleable__content pre {margin: 0.2em;color: black;border-radius: 0.25em;background-color: #f0f8ff;}#sk-container-id-1 input.sk-toggleable__control:checked~div.sk-toggleable__content {max-height: 200px;max-width: 100%;overflow: auto;}#sk-container-id-1 input.sk-toggleable__control:checked~label.sk-toggleable__label-arrow:before {content: \"▾\";}#sk-container-id-1 div.sk-estimator input.sk-toggleable__control:checked~label.sk-toggleable__label {background-color: #d4ebff;}#sk-container-id-1 div.sk-label input.sk-toggleable__control:checked~label.sk-toggleable__label {background-color: #d4ebff;}#sk-container-id-1 input.sk-hidden--visually {border: 0;clip: rect(1px 1px 1px 1px);clip: rect(1px, 1px, 1px, 1px);height: 1px;margin: -1px;overflow: hidden;padding: 0;position: absolute;width: 1px;}#sk-container-id-1 div.sk-estimator {font-family: monospace;background-color: #f0f8ff;border: 1px dotted black;border-radius: 0.25em;box-sizing: border-box;margin-bottom: 0.5em;}#sk-container-id-1 div.sk-estimator:hover {background-color: #d4ebff;}#sk-container-id-1 div.sk-parallel-item::after {content: \"\";width: 100%;border-bottom: 1px solid gray;flex-grow: 1;}#sk-container-id-1 div.sk-label:hover label.sk-toggleable__label {background-color: #d4ebff;}#sk-container-id-1 div.sk-serial::before {content: \"\";position: absolute;border-left: 1px solid gray;box-sizing: border-box;top: 0;bottom: 0;left: 50%;z-index: 0;}#sk-container-id-1 div.sk-serial {display: flex;flex-direction: column;align-items: center;background-color: white;padding-right: 0.2em;padding-left: 0.2em;position: relative;}#sk-container-id-1 div.sk-item {position: relative;z-index: 1;}#sk-container-id-1 div.sk-parallel {display: flex;align-items: stretch;justify-content: center;background-color: white;position: relative;}#sk-container-id-1 div.sk-item::before, #sk-container-id-1 div.sk-parallel-item::before {content: \"\";position: absolute;border-left: 1px solid gray;box-sizing: border-box;top: 0;bottom: 0;left: 50%;z-index: -1;}#sk-container-id-1 div.sk-parallel-item {display: flex;flex-direction: column;z-index: 1;position: relative;background-color: white;}#sk-container-id-1 div.sk-parallel-item:first-child::after {align-self: flex-end;width: 50%;}#sk-container-id-1 div.sk-parallel-item:last-child::after {align-self: flex-start;width: 50%;}#sk-container-id-1 div.sk-parallel-item:only-child::after {width: 0;}#sk-container-id-1 div.sk-dashed-wrapped {border: 1px dashed gray;margin: 0 0.4em 0.5em 0.4em;box-sizing: border-box;padding-bottom: 0.4em;background-color: white;}#sk-container-id-1 div.sk-label label {font-family: monospace;font-weight: bold;display: inline-block;line-height: 1.2em;}#sk-container-id-1 div.sk-label-container {text-align: center;}#sk-container-id-1 div.sk-container {/* jupyter's `normalize.less` sets `[hidden] { display: none; }` but bootstrap.min.css set `[hidden] { display: none !important; }` so we also need the `!important` here to be able to override the default hidden behavior on the sphinx rendered scikit-learn.org. See: https://github.com/scikit-learn/scikit-learn/issues/21755 */display: inline-block !important;position: relative;}#sk-container-id-1 div.sk-text-repr-fallback {display: none;}</style><div id=\"sk-container-id-1\" class=\"sk-top-container\"><div class=\"sk-text-repr-fallback\"><pre>AdaBoostClassifier(estimator=DecisionTreeClassifier(class_weight=&#x27;balanced&#x27;,\n",
       "                                                    max_depth=1))</pre><b>In a Jupyter environment, please rerun this cell to show the HTML representation or trust the notebook. <br />On GitHub, the HTML representation is unable to render, please try loading this page with nbviewer.org.</b></div><div class=\"sk-container\" hidden><div class=\"sk-item sk-dashed-wrapped\"><div class=\"sk-label-container\"><div class=\"sk-label sk-toggleable\"><input class=\"sk-toggleable__control sk-hidden--visually\" id=\"sk-estimator-id-1\" type=\"checkbox\" ><label for=\"sk-estimator-id-1\" class=\"sk-toggleable__label sk-toggleable__label-arrow\">AdaBoostClassifier</label><div class=\"sk-toggleable__content\"><pre>AdaBoostClassifier(estimator=DecisionTreeClassifier(class_weight=&#x27;balanced&#x27;,\n",
       "                                                    max_depth=1))</pre></div></div></div><div class=\"sk-parallel\"><div class=\"sk-parallel-item\"><div class=\"sk-item\"><div class=\"sk-label-container\"><div class=\"sk-label sk-toggleable\"><input class=\"sk-toggleable__control sk-hidden--visually\" id=\"sk-estimator-id-2\" type=\"checkbox\" ><label for=\"sk-estimator-id-2\" class=\"sk-toggleable__label sk-toggleable__label-arrow\">estimator: DecisionTreeClassifier</label><div class=\"sk-toggleable__content\"><pre>DecisionTreeClassifier(class_weight=&#x27;balanced&#x27;, max_depth=1)</pre></div></div></div><div class=\"sk-serial\"><div class=\"sk-item\"><div class=\"sk-estimator sk-toggleable\"><input class=\"sk-toggleable__control sk-hidden--visually\" id=\"sk-estimator-id-3\" type=\"checkbox\" ><label for=\"sk-estimator-id-3\" class=\"sk-toggleable__label sk-toggleable__label-arrow\">DecisionTreeClassifier</label><div class=\"sk-toggleable__content\"><pre>DecisionTreeClassifier(class_weight=&#x27;balanced&#x27;, max_depth=1)</pre></div></div></div></div></div></div></div></div></div></div>"
      ],
      "text/plain": [
       "AdaBoostClassifier(estimator=DecisionTreeClassifier(class_weight='balanced',\n",
       "                                                    max_depth=1))"
      ]
     },
     "execution_count": 13,
     "metadata": {},
     "output_type": "execute_result"
    }
   ],
   "source": [
    "ada.fit(X_train, y_train)"
   ]
  },
  {
   "cell_type": "code",
   "execution_count": 14,
   "id": "9a0070e5",
   "metadata": {
    "execution": {
     "iopub.execute_input": "2024-09-17T00:14:06.603351Z",
     "iopub.status.busy": "2024-09-17T00:14:06.602920Z",
     "iopub.status.idle": "2024-09-17T00:14:39.746365Z",
     "shell.execute_reply": "2024-09-17T00:14:39.745122Z"
    },
    "papermill": {
     "duration": 33.155354,
     "end_time": "2024-09-17T00:14:39.749012",
     "exception": false,
     "start_time": "2024-09-17T00:14:06.593658",
     "status": "completed"
    },
    "tags": []
   },
   "outputs": [
    {
     "data": {
      "text/plain": [
       "<sklearn.metrics._plot.roc_curve.RocCurveDisplay at 0x7e978238d7e0>"
      ]
     },
     "execution_count": 14,
     "metadata": {},
     "output_type": "execute_result"
    },
    {
     "data": {
      "image/png": "[encoded data removed]",
      "text/plain": [
       "<Figure size 640x480 with 1 Axes>"
      ]
     },
     "metadata": {},
     "output_type": "display_data"
    }
   ],
   "source": [
    "fpr, tpr, thresholds = roc_curve(y_train, ada.predict(X_train))\n",
    "# get the best threshold\n",
    "J = tpr - fpr\n",
    "ix = np.argmax(J)\n",
    "best_thresh = thresholds[ix]\n",
    "roc_auc = auc(fpr, tpr)\n",
    "display = RocCurveDisplay(fpr=fpr, tpr=tpr, roc_auc=roc_auc, estimator_name='AdaBoostClassifier')\n",
    "display.plot()"
   ]
  },
  {
   "cell_type": "code",
   "execution_count": 15,
   "id": "e736b0e7",
   "metadata": {
    "execution": {
     "iopub.execute_input": "2024-09-17T00:14:39.766604Z",
     "iopub.status.busy": "2024-09-17T00:14:39.765567Z",
     "iopub.status.idle": "2024-09-17T00:14:53.966405Z",
     "shell.execute_reply": "2024-09-17T00:14:53.965002Z"
    },
    "papermill": {
     "duration": 14.21239,
     "end_time": "2024-09-17T00:14:53.968942",
     "exception": false,
     "start_time": "2024-09-17T00:14:39.756552",
     "status": "completed"
    },
    "tags": []
   },
   "outputs": [
    {
     "name": "stdout",
     "output_type": "stream",
     "text": [
      "(199980,)\n",
      "1.0\n"
     ]
    }
   ],
   "source": [
    "ada_preds = ada.predict(X_test)                   \n",
    "print(ada_preds.shape)\n",
    "print(best_thresh)"
   ]
  },
  {
   "cell_type": "code",
   "execution_count": 16,
   "id": "9edefe6c",
   "metadata": {
    "execution": {
     "iopub.execute_input": "2024-09-17T00:14:53.986552Z",
     "iopub.status.busy": "2024-09-17T00:14:53.985551Z",
     "iopub.status.idle": "2024-09-17T00:14:54.414962Z",
     "shell.execute_reply": "2024-09-17T00:14:54.413535Z"
    },
    "papermill": {
     "duration": 0.44077,
     "end_time": "2024-09-17T00:14:54.417413",
     "exception": false,
     "start_time": "2024-09-17T00:14:53.976643",
     "status": "completed"
    },
    "tags": []
   },
   "outputs": [
    {
     "name": "stdout",
     "output_type": "stream",
     "text": [
      "The final Adaboost results\n",
      "ROC-AUC 0.9473\n",
      "Precision 0.9492\n",
      "Recall 0.9451\n",
      "F1 0.9472\n"
     ]
    }
   ],
   "source": [
    "print(\"The final Adaboost results\")\n",
    "print(\"ROC-AUC\", round(roc_auc_score(y_true=y_test, y_score=ada_preds),4))\n",
    "print(\"Precision\", round(precision_score(y_true=y_test, y_pred=np.where(ada_preds >= best_thresh, 1, 0)), 4))\n",
    "print(\"Recall\", round(recall_score(y_true=y_test, y_pred=np.where(ada_preds >= best_thresh, 1, 0)), 4))\n",
    "print(\"F1\", round(f1_score(y_true=y_test, y_pred=np.where(ada_preds >= best_thresh, 1, 0)), 4))"
   ]
  }
 ],
 "metadata": {
  "kaggle": {
   "accelerator": "none",
   "dataSources": [
    {
     "datasetId": 4856818,
     "sourceId": 8206090,
     "sourceType": "datasetVersion"
    }
   ],
   "dockerImageVersionId": 30761,
   "isGpuEnabled": false,
   "isInternetEnabled": true,
   "language": "python",
   "sourceType": "notebook"
  },
  "kernelspec": {
   "display_name": "Python 3",
   "language": "python",
   "name": "python3"
  },
  "language_info": {
   "codemirror_mode": {
    "name": "ipython",
    "version": 3
   },
   "file_extension": ".py",
   "mimetype": "text/x-python",
   "name": "python",
   "nbconvert_exporter": "python",
   "pygments_lexer": "ipython3",
   "version": "3.10.14"
  },
  "papermill": {
   "default_parameters": {},
   "duration": 3944.656274,
   "end_time": "2024-09-17T00:14:55.449982",
   "environment_variables": {},
   "exception": null,
   "input_path": "__notebook__.ipynb",
   "output_path": "__notebook__.ipynb",
   "parameters": {},
   "start_time": "2024-09-16T23:09:10.793708",
   "version": "2.6.0"
  }
 },
 "nbformat": 4,
 "nbformat_minor": 5
}
